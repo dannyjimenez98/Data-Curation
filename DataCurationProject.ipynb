{
  "nbformat": 4,
  "nbformat_minor": 0,
  "metadata": {
    "colab": {
      "name": "DataCurationProject.ipynb",
      "provenance": [],
      "collapsed_sections": [],
      "mount_file_id": "1H3Qmelrmf6s07PB9tXnK5YlFl6sfAKwm",
      "authorship_tag": "ABX9TyNBbPOBmbp8DDm0L0f0sKOF",
      "include_colab_link": true
    },
    "kernelspec": {
      "name": "python3",
      "display_name": "Python 3"
    },
    "language_info": {
      "name": "python"
    }
  },
  "cells": [
    {
      "cell_type": "markdown",
      "metadata": {
        "id": "view-in-github",
        "colab_type": "text"
      },
      "source": [
        "<a href=\"https://colab.research.google.com/github/dannyjimenez98/Module-2-Exercise/blob/main/DataCurationProject.ipynb\" target=\"_parent\"><img src=\"https://colab.research.google.com/assets/colab-badge.svg\" alt=\"Open In Colab\"/></a>"
      ]
    },
    {
      "cell_type": "code",
      "execution_count": null,
      "metadata": {
        "id": "XdWvklBITT7B"
      },
      "outputs": [],
      "source": [
        "import requests\n",
        "from bs4 import BeautifulSoup\n",
        "import pandas as pd\n",
        "import matplotlib.pyplot as plt\n",
        "import pprint\n",
        "import math, time"
      ]
    },
    {
      "cell_type": "code",
      "source": [
        "API_KEY='VOyJLAyvGqAyAHJot0I05y868muPksiG'\n",
        "BASE_URL = 'https://api.nytimes.com/svc/search/v2/articlesearch.json'"
      ],
      "metadata": {
        "id": "p-lOWkHoUT4h"
      },
      "execution_count": null,
      "outputs": []
    },
    {
      "cell_type": "code",
      "source": [
        "def getArticleText(article_url):\n",
        "    ''' Parses the article's url and extracts the body text\n",
        "        Input: article's url\n",
        "        Output: article's body text\n",
        "    '''\n",
        "    # request response from article's url\n",
        "    article_response = requests.get(article_url)\n",
        "    soup = BeautifulSoup(article_response.text, 'html.parser')\n",
        "\n",
        "    # get content with id of story inside section tag\n",
        "    story = soup.find(id='story').find('section')\n",
        "\n",
        "    # gets a list of every word in story that is in a p tag\n",
        "    text = story.find_all('p')\n",
        "\n",
        "    # iterates through text list \n",
        "    article_text = ''\n",
        "    for i in text:\n",
        "        # append each word to each other to return full article text\n",
        "        article_text += i.get_text() + ' '\n",
        "    \n",
        "\n",
        "    return article_text"
      ],
      "metadata": {
        "id": "zKBl7BgxTm6Y"
      },
      "execution_count": null,
      "outputs": []
    },
    {
      "cell_type": "code",
      "source": [
        "def getCompanyArticlesData(query):\n",
        "    '''\n",
        "    Gets json data of every article from our request search parameters and extracts information \n",
        "    from each article to get full article text and store information into a dataframe\n",
        "\n",
        "    Input: search query \n",
        "        - Company we are analyzing\n",
        "    Output: Returns list of each article's publishing date, headline, body text, and url \n",
        "    '''\n",
        "    # request parameters\n",
        "    page=0\n",
        "    params={'api-key':API_KEY,\n",
        "        'q':query,\n",
        "        'begin_date':'20190101',\n",
        "        'end_date':'20211231',\n",
        "        'fq':f'document_type:(\"article\") AND section_name:(\"Business\" \"Technology\") AND organizations:({query})',\n",
        "        'page':page,\n",
        "        'fl':('web_url','pub_date','headline','meta'), \n",
        "        'sort':'oldest'}\n",
        "\n",
        "    # request article data\n",
        "    response = requests.get(BASE_URL,params)\n",
        "    print(response.url)\n",
        "\n",
        "    data = response.json()\n",
        "\n",
        "    # number of articles returned\n",
        "    hits = data['response']['meta']['hits']\n",
        "\n",
        "    # pages of articles to iterate through\n",
        "    total_pages = math.ceil(hits/10)\n",
        "\n",
        "    article_data = [] # empty list holding rows of each article's data\n",
        "\n",
        "    for page in range(1): \n",
        "    # for page in range(total_pages): \n",
        "        try:\n",
        "            # updates page in articles parameters for pagination\n",
        "            params['page'] = page\n",
        "            # print(f'PAGE {page}/{total_pages-1}')\n",
        "\n",
        "            # gets current page's articles raw data\n",
        "            response = requests.get(BASE_URL,params)\n",
        "            \n",
        "            data = response.json()\n",
        "            \n",
        "            # iterate through each article's raw data on current page\n",
        "            for i in data['response']['docs']:\n",
        "                headline = i['headline']['main']\n",
        "                pub_date = i['pub_date']\n",
        "                article_url = i['web_url']\n",
        "\n",
        "                article_content = getArticleText(article_url)\n",
        "\n",
        "                # adds new row of data for this article\n",
        "                article_data.append([pub_date,headline,article_content,article_url])\n",
        "\n",
        "            time.sleep(7)\n",
        "        except:\n",
        "            print(\"There's an issue here\")\n",
        "\n",
        "    return article_data"
      ],
      "metadata": {
        "id": "2l6sQhyuUNV5"
      },
      "execution_count": null,
      "outputs": []
    },
    {
      "cell_type": "code",
      "source": [
        "data = getCompanyArticlesData('Facebook Inc')"
      ],
      "metadata": {
        "colab": {
          "base_uri": "https://localhost:8080/"
        },
        "id": "IxU3zIvmgSYZ",
        "outputId": "ccc98f86-235c-4e89-b332-cf4430786024"
      },
      "execution_count": null,
      "outputs": [
        {
          "output_type": "stream",
          "name": "stdout",
          "text": [
            "https://api.nytimes.com/svc/search/v2/articlesearch.json?api-key=VOyJLAyvGqAyAHJot0I05y868muPksiG&q=Facebook+Inc&begin_date=20190101&end_date=20211231&fq=document_type%3A%28%22article%22%29+AND+section_name%3A%28%22Business%22+%22Technology%22%29+AND+organizations%3A%28Facebook+Inc%29&page=0&fl=web_url&fl=pub_date&fl=headline&fl=meta&sort=oldest\n"
          ]
        }
      ]
    },
    {
      "cell_type": "code",
      "source": [
        "df=pd.DataFrame(data,columns=['Date','Headline','Article Text','Article URL'])\n",
        "df['Date'] = pd.to_datetime(df['Date']).dt.date\n",
        "df"
      ],
      "metadata": {
        "colab": {
          "base_uri": "https://localhost:8080/",
          "height": 789
        },
        "id": "_s75KOpygdR2",
        "outputId": "8bb92844-9e48-4b32-b8d6-f1d0ba633165"
      },
      "execution_count": null,
      "outputs": [
        {
          "output_type": "execute_result",
          "data": {
            "text/plain": [
              "         Date                                           Headline  \\\n",
              "0  2019-01-01  Big Tech May Look Troubled, but It’s Just Gett...   \n",
              "1  2019-01-18  The Week in Tech: How Google and Facebook Spaw...   \n",
              "2  2019-01-19  F.T.C. Is Said to Be Considering Large Faceboo...   \n",
              "3  2019-01-19  Are ‘10-Year Challenge’ Photos a Boon to Faceb...   \n",
              "4  2019-01-22  Did Australia Hurt Phone Security Around the W...   \n",
              "5  2019-01-23  He Reported on Facebook. Now He Approaches It ...   \n",
              "6  2019-01-25  The Week in Tech: Silicon Valley Hobnobs in Davos   \n",
              "7  2019-01-25  Zuckerberg Plans to Integrate WhatsApp, Instag...   \n",
              "8  2019-01-30  Does Facebook Really Know How Many Fake Accoun...   \n",
              "9  2019-01-30  Facebook’s Profits and Revenue Climb as It Gai...   \n",
              "\n",
              "                                        Article Text  \\\n",
              "0  SAN JOSE, Calif. — Silicon Valley ended 2018 s...   \n",
              "1  Each week, technology reporters and columnists...   \n",
              "2  WASHINGTON — The Federal Trade Commission is i...   \n",
              "3  The #10YearChallenge was all fun and memes unt...   \n",
              "4  SYDNEY, Australia — A new law in Australia giv...   \n",
              "5  How do New York Times journalists use technolo...   \n",
              "6  SAN FRANCISCO — Each week, technology reporter...   \n",
              "7  SAN FRANCISCO — Mark Zuckerberg, Facebook’s ch...   \n",
              "8  Facebook sells advertisers on its access to re...   \n",
              "9  SAN FRANCISCO — Facebook’s worst year ever was...   \n",
              "\n",
              "                                         Article URL  \n",
              "0  https://www.nytimes.com/2019/01/01/technology/...  \n",
              "1  https://www.nytimes.com/2019/01/18/technology/...  \n",
              "2  https://www.nytimes.com/2019/01/18/technology/...  \n",
              "3  https://www.nytimes.com/2019/01/19/technology/...  \n",
              "4  https://www.nytimes.com/2019/01/22/technology/...  \n",
              "5  https://www.nytimes.com/2019/01/23/technology/...  \n",
              "6  https://www.nytimes.com/2019/01/25/technology/...  \n",
              "7  https://www.nytimes.com/2019/01/25/technology/...  \n",
              "8  https://www.nytimes.com/2019/01/30/technology/...  \n",
              "9  https://www.nytimes.com/2019/01/30/technology/...  "
            ],
            "text/html": [
              "\n",
              "  <div id=\"df-ea44c158-0405-40cf-8c6b-a800c54ae095\">\n",
              "    <div class=\"colab-df-container\">\n",
              "      <div>\n",
              "<style scoped>\n",
              "    .dataframe tbody tr th:only-of-type {\n",
              "        vertical-align: middle;\n",
              "    }\n",
              "\n",
              "    .dataframe tbody tr th {\n",
              "        vertical-align: top;\n",
              "    }\n",
              "\n",
              "    .dataframe thead th {\n",
              "        text-align: right;\n",
              "    }\n",
              "</style>\n",
              "<table border=\"1\" class=\"dataframe\">\n",
              "  <thead>\n",
              "    <tr style=\"text-align: right;\">\n",
              "      <th></th>\n",
              "      <th>Date</th>\n",
              "      <th>Headline</th>\n",
              "      <th>Article Text</th>\n",
              "      <th>Article URL</th>\n",
              "    </tr>\n",
              "  </thead>\n",
              "  <tbody>\n",
              "    <tr>\n",
              "      <th>0</th>\n",
              "      <td>2019-01-01</td>\n",
              "      <td>Big Tech May Look Troubled, but It’s Just Gett...</td>\n",
              "      <td>SAN JOSE, Calif. — Silicon Valley ended 2018 s...</td>\n",
              "      <td>https://www.nytimes.com/2019/01/01/technology/...</td>\n",
              "    </tr>\n",
              "    <tr>\n",
              "      <th>1</th>\n",
              "      <td>2019-01-18</td>\n",
              "      <td>The Week in Tech: How Google and Facebook Spaw...</td>\n",
              "      <td>Each week, technology reporters and columnists...</td>\n",
              "      <td>https://www.nytimes.com/2019/01/18/technology/...</td>\n",
              "    </tr>\n",
              "    <tr>\n",
              "      <th>2</th>\n",
              "      <td>2019-01-19</td>\n",
              "      <td>F.T.C. Is Said to Be Considering Large Faceboo...</td>\n",
              "      <td>WASHINGTON — The Federal Trade Commission is i...</td>\n",
              "      <td>https://www.nytimes.com/2019/01/18/technology/...</td>\n",
              "    </tr>\n",
              "    <tr>\n",
              "      <th>3</th>\n",
              "      <td>2019-01-19</td>\n",
              "      <td>Are ‘10-Year Challenge’ Photos a Boon to Faceb...</td>\n",
              "      <td>The #10YearChallenge was all fun and memes unt...</td>\n",
              "      <td>https://www.nytimes.com/2019/01/19/technology/...</td>\n",
              "    </tr>\n",
              "    <tr>\n",
              "      <th>4</th>\n",
              "      <td>2019-01-22</td>\n",
              "      <td>Did Australia Hurt Phone Security Around the W...</td>\n",
              "      <td>SYDNEY, Australia — A new law in Australia giv...</td>\n",
              "      <td>https://www.nytimes.com/2019/01/22/technology/...</td>\n",
              "    </tr>\n",
              "    <tr>\n",
              "      <th>5</th>\n",
              "      <td>2019-01-23</td>\n",
              "      <td>He Reported on Facebook. Now He Approaches It ...</td>\n",
              "      <td>How do New York Times journalists use technolo...</td>\n",
              "      <td>https://www.nytimes.com/2019/01/23/technology/...</td>\n",
              "    </tr>\n",
              "    <tr>\n",
              "      <th>6</th>\n",
              "      <td>2019-01-25</td>\n",
              "      <td>The Week in Tech: Silicon Valley Hobnobs in Davos</td>\n",
              "      <td>SAN FRANCISCO — Each week, technology reporter...</td>\n",
              "      <td>https://www.nytimes.com/2019/01/25/technology/...</td>\n",
              "    </tr>\n",
              "    <tr>\n",
              "      <th>7</th>\n",
              "      <td>2019-01-25</td>\n",
              "      <td>Zuckerberg Plans to Integrate WhatsApp, Instag...</td>\n",
              "      <td>SAN FRANCISCO — Mark Zuckerberg, Facebook’s ch...</td>\n",
              "      <td>https://www.nytimes.com/2019/01/25/technology/...</td>\n",
              "    </tr>\n",
              "    <tr>\n",
              "      <th>8</th>\n",
              "      <td>2019-01-30</td>\n",
              "      <td>Does Facebook Really Know How Many Fake Accoun...</td>\n",
              "      <td>Facebook sells advertisers on its access to re...</td>\n",
              "      <td>https://www.nytimes.com/2019/01/30/technology/...</td>\n",
              "    </tr>\n",
              "    <tr>\n",
              "      <th>9</th>\n",
              "      <td>2019-01-30</td>\n",
              "      <td>Facebook’s Profits and Revenue Climb as It Gai...</td>\n",
              "      <td>SAN FRANCISCO — Facebook’s worst year ever was...</td>\n",
              "      <td>https://www.nytimes.com/2019/01/30/technology/...</td>\n",
              "    </tr>\n",
              "  </tbody>\n",
              "</table>\n",
              "</div>\n",
              "      <button class=\"colab-df-convert\" onclick=\"convertToInteractive('df-ea44c158-0405-40cf-8c6b-a800c54ae095')\"\n",
              "              title=\"Convert this dataframe to an interactive table.\"\n",
              "              style=\"display:none;\">\n",
              "        \n",
              "  <svg xmlns=\"http://www.w3.org/2000/svg\" height=\"24px\"viewBox=\"0 0 24 24\"\n",
              "       width=\"24px\">\n",
              "    <path d=\"M0 0h24v24H0V0z\" fill=\"none\"/>\n",
              "    <path d=\"M18.56 5.44l.94 2.06.94-2.06 2.06-.94-2.06-.94-.94-2.06-.94 2.06-2.06.94zm-11 1L8.5 8.5l.94-2.06 2.06-.94-2.06-.94L8.5 2.5l-.94 2.06-2.06.94zm10 10l.94 2.06.94-2.06 2.06-.94-2.06-.94-.94-2.06-.94 2.06-2.06.94z\"/><path d=\"M17.41 7.96l-1.37-1.37c-.4-.4-.92-.59-1.43-.59-.52 0-1.04.2-1.43.59L10.3 9.45l-7.72 7.72c-.78.78-.78 2.05 0 2.83L4 21.41c.39.39.9.59 1.41.59.51 0 1.02-.2 1.41-.59l7.78-7.78 2.81-2.81c.8-.78.8-2.07 0-2.86zM5.41 20L4 18.59l7.72-7.72 1.47 1.35L5.41 20z\"/>\n",
              "  </svg>\n",
              "      </button>\n",
              "      \n",
              "  <style>\n",
              "    .colab-df-container {\n",
              "      display:flex;\n",
              "      flex-wrap:wrap;\n",
              "      gap: 12px;\n",
              "    }\n",
              "\n",
              "    .colab-df-convert {\n",
              "      background-color: #E8F0FE;\n",
              "      border: none;\n",
              "      border-radius: 50%;\n",
              "      cursor: pointer;\n",
              "      display: none;\n",
              "      fill: #1967D2;\n",
              "      height: 32px;\n",
              "      padding: 0 0 0 0;\n",
              "      width: 32px;\n",
              "    }\n",
              "\n",
              "    .colab-df-convert:hover {\n",
              "      background-color: #E2EBFA;\n",
              "      box-shadow: 0px 1px 2px rgba(60, 64, 67, 0.3), 0px 1px 3px 1px rgba(60, 64, 67, 0.15);\n",
              "      fill: #174EA6;\n",
              "    }\n",
              "\n",
              "    [theme=dark] .colab-df-convert {\n",
              "      background-color: #3B4455;\n",
              "      fill: #D2E3FC;\n",
              "    }\n",
              "\n",
              "    [theme=dark] .colab-df-convert:hover {\n",
              "      background-color: #434B5C;\n",
              "      box-shadow: 0px 1px 3px 1px rgba(0, 0, 0, 0.15);\n",
              "      filter: drop-shadow(0px 1px 2px rgba(0, 0, 0, 0.3));\n",
              "      fill: #FFFFFF;\n",
              "    }\n",
              "  </style>\n",
              "\n",
              "      <script>\n",
              "        const buttonEl =\n",
              "          document.querySelector('#df-ea44c158-0405-40cf-8c6b-a800c54ae095 button.colab-df-convert');\n",
              "        buttonEl.style.display =\n",
              "          google.colab.kernel.accessAllowed ? 'block' : 'none';\n",
              "\n",
              "        async function convertToInteractive(key) {\n",
              "          const element = document.querySelector('#df-ea44c158-0405-40cf-8c6b-a800c54ae095');\n",
              "          const dataTable =\n",
              "            await google.colab.kernel.invokeFunction('convertToInteractive',\n",
              "                                                     [key], {});\n",
              "          if (!dataTable) return;\n",
              "\n",
              "          const docLinkHtml = 'Like what you see? Visit the ' +\n",
              "            '<a target=\"_blank\" href=https://colab.research.google.com/notebooks/data_table.ipynb>data table notebook</a>'\n",
              "            + ' to learn more about interactive tables.';\n",
              "          element.innerHTML = '';\n",
              "          dataTable['output_type'] = 'display_data';\n",
              "          await google.colab.output.renderOutput(dataTable, element);\n",
              "          const docLink = document.createElement('div');\n",
              "          docLink.innerHTML = docLinkHtml;\n",
              "          element.appendChild(docLink);\n",
              "        }\n",
              "      </script>\n",
              "    </div>\n",
              "  </div>\n",
              "  "
            ]
          },
          "metadata": {},
          "execution_count": 8
        }
      ]
    },
    {
      "cell_type": "markdown",
      "source": [
        "### Template code\n",
        "`df.to_csv('./{foldername}/{filename}.csv', index=False)`"
      ],
      "metadata": {
        "id": "OxNG0Eo383oV"
      }
    },
    {
      "cell_type": "code",
      "source": [
        "# Write to CSV file for later analysis\n",
        "# df.to_csv('./{foldername}/{filename}.csv', index=False) # template\n",
        "df.to_csv('testfile.csv', index=False) # template"
      ],
      "metadata": {
        "cellView": "code",
        "id": "Um6RNmkPWAr1"
      },
      "execution_count": null,
      "outputs": []
    },
    {
      "cell_type": "code",
      "source": [
        ""
      ],
      "metadata": {
        "id": "8JPSOsfZYr0A",
        "colab": {
          "base_uri": "https://localhost:8080/"
        },
        "outputId": "35f1f606-a338-4927-b817-9440e6b03051"
      },
      "execution_count": null,
      "outputs": [
        {
          "output_type": "stream",
          "name": "stdout",
          "text": [
            "/content\n"
          ]
        }
      ]
    },
    {
      "cell_type": "code",
      "source": [
        ""
      ],
      "metadata": {
        "id": "n6vqyPnmBhsX"
      },
      "execution_count": null,
      "outputs": []
    }
  ]
}